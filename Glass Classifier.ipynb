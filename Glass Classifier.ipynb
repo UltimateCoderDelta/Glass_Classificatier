{
 "cells": [
  {
   "cell_type": "code",
   "execution_count": null,
   "id": "cf8be504-7752-42af-9b0c-b4dc59495a63",
   "metadata": {},
   "outputs": [],
   "source": []
  }
 ],
 "metadata": {
  "kernelspec": {
   "display_name": "",
   "name": ""
  },
  "language_info": {
   "name": ""
  }
 },
 "nbformat": 4,
 "nbformat_minor": 5
}
